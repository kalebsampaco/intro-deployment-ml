{
 "cells": [
  {
   "attachments": {},
   "cell_type": "markdown",
   "metadata": {},
   "source": [
    "## Flujo de un modelo de machine learning"
   ]
  },
  {
   "attachments": {},
   "cell_type": "markdown",
   "metadata": {},
   "source": [
    "<img src=\"https://ml-ops.org/img/ml-engineering.jpg\"></img>"
   ]
  },
  {
   "attachments": {},
   "cell_type": "markdown",
   "metadata": {},
   "source": [
    "https://ml-ops.org/content/end-to-end-ml-workflow#model-deployment"
   ]
  },
  {
   "attachments": {},
   "cell_type": "markdown",
   "metadata": {},
   "source": [
    "## Requerimiento para hacer MLOps"
   ]
  },
  {
   "attachments": {},
   "cell_type": "markdown",
   "metadata": {},
   "source": [
    "https://ml-ops.org/content/three-levels-of-ml-software"
   ]
  },
  {
   "attachments": {},
   "cell_type": "markdown",
   "metadata": {},
   "source": [
    "## Arquitectura del proyecto"
   ]
  },
  {
   "attachments": {},
   "cell_type": "markdown",
   "metadata": {},
   "source": [
    "### ¿En qué consiste el proyecto?\n",
    "\n",
    "    * Predecir la cantidad de dinero que genera una película a través de una API\n",
    "    * Reproducir todo el flujo de puesta en producción de un modelo\n",
    "    * Aplica entrenamiento continuo\n",
    "    * Desplegar continuamente usando CI/CD"
   ]
  },
  {
   "attachments": {},
   "cell_type": "markdown",
   "metadata": {},
   "source": [
    "<img src=\"https://static.platzi.com/media/user_upload/Arquitecture-b82a207a-4d89-49af-988c-d0b410fe676c.jpg\"></img>"
   ]
  },
  {
   "cell_type": "markdown",
   "metadata": {},
   "source": []
  }
 ],
 "metadata": {
  "kernelspec": {
   "display_name": "Python 3",
   "language": "python",
   "name": "python3"
  },
  "language_info": {
   "name": "python",
   "version": "3.9.6 (tags/v3.9.6:db3ff76, Jun 28 2021, 15:26:21) [MSC v.1929 64 bit (AMD64)]"
  },
  "orig_nbformat": 4,
  "vscode": {
   "interpreter": {
    "hash": "ee472317774406e518b234904aab44f06a1454268401548accc7e5b62ddbbc49"
   }
  }
 },
 "nbformat": 4,
 "nbformat_minor": 2
}
