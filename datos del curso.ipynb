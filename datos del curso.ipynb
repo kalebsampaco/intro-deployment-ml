{
 "cells": [
  {
   "cell_type": "markdown",
   "metadata": {},
   "source": [
    "## Flujo de un modelo de machine learning"
   ]
  },
  {
   "cell_type": "markdown",
   "metadata": {},
   "source": [
    "<img src=\"https://ml-ops.org/img/ml-engineering.jpg\"></img>"
   ]
  },
  {
   "cell_type": "markdown",
   "metadata": {},
   "source": [
    "https://ml-ops.org/content/end-to-end-ml-workflow#model-deployment"
   ]
  },
  {
   "cell_type": "markdown",
   "metadata": {},
   "source": [
    "## Requerimiento para hacer MLOps"
   ]
  },
  {
   "cell_type": "markdown",
   "metadata": {},
   "source": [
    "https://ml-ops.org/content/three-levels-of-ml-software"
   ]
  },
  {
   "cell_type": "markdown",
   "metadata": {},
   "source": [
    "## Arquitectura del proyecto"
   ]
  },
  {
   "cell_type": "markdown",
   "metadata": {},
   "source": [
    "### ¿En qué consiste el proyecto?\n",
    "\n",
    "    * Predecir la cantidad de dinero que genera una película a través de una API\n",
    "    * Reproducir todo el flujo de puesta en producción de un modelo\n",
    "    * Aplica entrenamiento continuo\n",
    "    * Desplegar continuamente usando CI/CD"
   ]
  },
  {
   "cell_type": "markdown",
   "metadata": {},
   "source": [
    "<img src=\"https://static.platzi.com/media/user_upload/Arquitecture-b82a207a-4d89-49af-988c-d0b410fe676c.jpg\"></img>"
   ]
  },
  {
   "cell_type": "markdown",
   "metadata": {},
   "source": [
    "https://ml-ops.org/content/three-levels-of-ml-software"
   ]
  },
  {
   "cell_type": "markdown",
   "metadata": {},
   "source": [
    "## Distribución de archivos\n",
    "\n",
    "* dvc/ <- configuraciones de DVC\n",
    "\n",
    "* .github/workflows/ <- actions que se ejecutaran\n",
    "\n",
    "* api/ <- API utilizando fast API\n",
    "\n",
    "* datset/ <- archivos del dataset traqueados\n",
    "\n",
    "* model/ <- archivos de modelos traqueados\n",
    "\n",
    "* notebooks/ <- notebooks con el modelo\n",
    "\n",
    "* src/ <- archivos usados para reentrenamiento\n",
    "\n",
    "* utilities/ <- archivos con utilidades especificas\n",
    "\n",
    "* … <- archivos misceláneos del proyecto y extras que se necesitaran"
   ]
  },
  {
   "cell_type": "markdown",
   "metadata": {},
   "source": [
    "## Data Version Control DVC"
   ]
  },
  {
   "cell_type": "markdown",
   "metadata": {},
   "source": [
    "https://dvc.org/doc"
   ]
  },
  {
   "cell_type": "markdown",
   "metadata": {
    "tags": []
   },
   "source": [
    "## Comandos de DVC"
   ]
  },
  {
   "cell_type": "markdown",
   "metadata": {},
   "source": [
    "https://dvc.org/doc/command-reference"
   ]
  },
  {
   "cell_type": "markdown",
   "metadata": {},
   "source": [
    "### Comandos básico\n",
    "* dvc init\n",
    "* dvc remote\n",
    "* dvc add\n",
    "* dvc pull\n",
    "* dvc push\n",
    "* dvc run\n",
    "* dvc repro\n",
    "* dvc dag\n"
   ]
  },
  {
   "cell_type": "markdown",
   "metadata": {},
   "source": [
    "## implementar DVC en nuestro proyecto"
   ]
  },
  {
   "cell_type": "markdown",
   "metadata": {},
   "source": [
    "* En google clous crear un cuenta y una llave de servicio"
   ]
  },
  {
   "cell_type": "markdown",
   "metadata": {},
   "source": [
    "* en el ambiente se instala la libreria de dvc\n",
    "    * conda install -c conda-forge mamba # installs much faster than conda\n",
    "    * mamba install -c conda-forge dvc"
   ]
  },
  {
   "cell_type": "markdown",
   "metadata": {},
   "source": [
    "* mamba install -c conda-forge dvc[gs]"
   ]
  },
  {
   "cell_type": "markdown",
   "metadata": {},
   "source": [
    "* !dvc init"
   ]
  },
  {
   "cell_type": "markdown",
   "metadata": {},
   "source": [
    "export GOOGLE_APPLICATION_CREDENTIALS=$(realpath .\\mediapp-321819-7781fa950444.json)"
   ]
  }
 ],
 "metadata": {
  "kernelspec": {
   "display_name": "Python 3 (ipykernel)",
   "language": "python",
   "name": "python3"
  },
  "language_info": {
   "codemirror_mode": {
    "name": "ipython",
    "version": 3
   },
   "file_extension": ".py",
   "mimetype": "text/x-python",
   "name": "python",
   "nbconvert_exporter": "python",
   "pygments_lexer": "ipython3",
   "version": "3.9.6"
  },
  "vscode": {
   "interpreter": {
    "hash": "ee472317774406e518b234904aab44f06a1454268401548accc7e5b62ddbbc49"
   }
  }
 },
 "nbformat": 4,
 "nbformat_minor": 4
}
