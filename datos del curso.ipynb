{
 "cells": [
  {
   "cell_type": "markdown",
   "metadata": {},
   "source": [
    "## Flujo de un modelo de machine learning"
   ]
  },
  {
   "cell_type": "markdown",
   "metadata": {},
   "source": [
    "<img src=\"https://ml-ops.org/img/ml-engineering.jpg\"></img>"
   ]
  },
  {
   "cell_type": "markdown",
   "metadata": {},
   "source": [
    "https://ml-ops.org/content/end-to-end-ml-workflow#model-deployment"
   ]
  },
  {
   "cell_type": "markdown",
   "metadata": {},
   "source": [
    "## Requerimiento para hacer MLOps"
   ]
  },
  {
   "cell_type": "markdown",
   "metadata": {},
   "source": [
    "https://ml-ops.org/content/three-levels-of-ml-software"
   ]
  },
  {
   "cell_type": "markdown",
   "metadata": {},
   "source": [
    "## Arquitectura del proyecto"
   ]
  },
  {
   "cell_type": "markdown",
   "metadata": {},
   "source": [
    "### ¿En qué consiste el proyecto?\n",
    "\n",
    "    * Predecir la cantidad de dinero que genera una película a través de una API\n",
    "    * Reproducir todo el flujo de puesta en producción de un modelo\n",
    "    * Aplica entrenamiento continuo\n",
    "    * Desplegar continuamente usando CI/CD"
   ]
  },
  {
   "cell_type": "markdown",
   "metadata": {},
   "source": [
    "<img src=\"https://static.platzi.com/media/user_upload/Arquitecture-b82a207a-4d89-49af-988c-d0b410fe676c.jpg\"></img>"
   ]
  },
  {
   "cell_type": "markdown",
   "metadata": {},
   "source": [
    "https://ml-ops.org/content/three-levels-of-ml-software"
   ]
  },
  {
   "cell_type": "markdown",
   "metadata": {},
   "source": [
    "## Distribución de archivos\n",
    "\n",
    "* dvc/ <- configuraciones de DVC\n",
    "\n",
    "* .github/workflows/ <- actions que se ejecutaran\n",
    "\n",
    "* api/ <- API utilizando fast API\n",
    "\n",
    "* datset/ <- archivos del dataset traqueados\n",
    "\n",
    "* model/ <- archivos de modelos traqueados\n",
    "\n",
    "* notebooks/ <- notebooks con el modelo\n",
    "\n",
    "* src/ <- archivos usados para reentrenamiento\n",
    "\n",
    "* utilities/ <- archivos con utilidades especificas\n",
    "\n",
    "* … <- archivos misceláneos del proyecto y extras que se necesitaran"
   ]
  },
  {
   "cell_type": "markdown",
   "metadata": {},
   "source": [
    "## Data Version Control DVC"
   ]
  },
  {
   "cell_type": "markdown",
   "metadata": {},
   "source": [
    "https://dvc.org/doc"
   ]
  },
  {
   "cell_type": "markdown",
   "metadata": {
    "tags": []
   },
   "source": [
    "## Comandos de DVC"
   ]
  },
  {
   "cell_type": "markdown",
   "metadata": {},
   "source": [
    "https://dvc.org/doc/command-reference"
   ]
  },
  {
   "cell_type": "markdown",
   "metadata": {},
   "source": [
    "### Comandos básico\n",
    "* dvc init\n",
    "* dvc remote\n",
    "* dvc add\n",
    "* dvc pull\n",
    "* dvc push\n",
    "* dvc run\n",
    "* dvc repro\n",
    "* dvc dag\n"
   ]
  },
  {
   "cell_type": "markdown",
   "metadata": {},
   "source": [
    "## implementar DVC en nuestro proyecto"
   ]
  },
  {
   "cell_type": "markdown",
   "metadata": {},
   "source": [
    "* En google clous crear un cuenta y una llave de servicio"
   ]
  },
  {
   "attachments": {},
   "cell_type": "markdown",
   "metadata": {},
   "source": [
    "* en el ambiente se instala la libreria de dvc\n",
    "    * conda install -c conda-forge mamba # installs much faster than conda\n",
    "    * mamba install -c conda-forge dvc\n",
    "    * mamba install -c conda-forge dvc-gs"
   ]
  },
  {
   "cell_type": "markdown",
   "metadata": {},
   "source": [
    "* mamba install -c conda-forge dvc[gs]"
   ]
  },
  {
   "cell_type": "markdown",
   "metadata": {},
   "source": [
    "* !dvc init"
   ]
  },
  {
   "cell_type": "markdown",
   "metadata": {},
   "source": [
    "export GOOGLE_APPLICATION_CREDENTIALS=$(realpath .\\mediapp-321819-7781fa950444.json)"
   ]
  },
  {
   "attachments": {},
   "cell_type": "markdown",
   "metadata": {},
   "source": [
    "* Crea en google cloud un bucket con dos carpetas para que guarde la información del dataset y del modelo"
   ]
  },
  {
   "attachments": {},
   "cell_type": "markdown",
   "metadata": {},
   "source": [
    "dvc remote ad\n",
    "d dataset-track gs://model-dataset-tracker-caleb/dataset"
   ]
  },
  {
   "attachments": {},
   "cell_type": "markdown",
   "metadata": {},
   "source": [
    "dvc add .\\dat\n",
    "aset\\finantials.csv --to-remote -r dataset-track"
   ]
  },
  {
   "attachments": {},
   "cell_type": "markdown",
   "metadata": {},
   "source": [
    "dvc add .\\dataset\\opening_gross.csv --to-remote -r dataset-track"
   ]
  },
  {
   "attachments": {},
   "cell_type": "markdown",
   "metadata": {},
   "source": [
    "ls dataset/"
   ]
  },
  {
   "attachments": {},
   "cell_type": "markdown",
   "metadata": {},
   "source": [
    "dvc remote add model-tracker gs://model-dataset-tracker-caleb/model"
   ]
  },
  {
   "attachments": {},
   "cell_type": "markdown",
   "metadata": {},
   "source": [
    "dvc add model/model.pkl --to-remote -r model-tracker"
   ]
  },
  {
   "attachments": {},
   "cell_type": "markdown",
   "metadata": {},
   "source": [
    "ls model/"
   ]
  },
  {
   "attachments": {},
   "cell_type": "markdown",
   "metadata": {},
   "source": [
    "* crear en un archivo gitignore\n",
    "\n",
    "venv/\n",
    "-ipynb_checkpoints/\n",
    "*.json\n",
    "*.csv\n",
    "*.pkl\n"
   ]
  }
 ],
 "metadata": {
  "kernelspec": {
   "display_name": "Python 3 (ipykernel)",
   "language": "python",
   "name": "python3"
  },
  "language_info": {
   "codemirror_mode": {
    "name": "ipython",
    "version": 3
   },
   "file_extension": ".py",
   "mimetype": "text/x-python",
   "name": "python",
   "nbconvert_exporter": "python",
   "pygments_lexer": "ipython3",
   "version": "3.9.6 (tags/v3.9.6:db3ff76, Jun 28 2021, 15:26:21) [MSC v.1929 64 bit (AMD64)]"
  },
  "vscode": {
   "interpreter": {
    "hash": "ee472317774406e518b234904aab44f06a1454268401548accc7e5b62ddbbc49"
   }
  }
 },
 "nbformat": 4,
 "nbformat_minor": 4
}
